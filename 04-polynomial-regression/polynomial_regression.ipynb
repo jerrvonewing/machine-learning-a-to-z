{
  "nbformat": 4,
  "nbformat_minor": 0,
  "metadata": {
    "colab": {
      "provenance": [],
      "authorship_tag": "ABX9TyOanRuPUbsszBplk1T+6acR",
      "include_colab_link": true
    },
    "kernelspec": {
      "name": "python3",
      "display_name": "Python 3"
    },
    "language_info": {
      "name": "python"
    }
  },
  "cells": [
    {
      "cell_type": "markdown",
      "metadata": {
        "id": "view-in-github",
        "colab_type": "text"
      },
      "source": [
        "<a href=\"https://colab.research.google.com/github/jerrvonewing/machine-learning-a-to-z/blob/main/04-polynomial-regression/polynomial_regression.ipynb\" target=\"_parent\"><img src=\"https://colab.research.google.com/assets/colab-badge.svg\" alt=\"Open In Colab\"/></a>"
      ]
    },
    {
      "cell_type": "markdown",
      "source": [
        "# Polynomial Regression"
      ],
      "metadata": {
        "id": "ADjLANfSsVBZ"
      }
    },
    {
      "cell_type": "markdown",
      "source": [
        "## Data Preprocessing"
      ],
      "metadata": {
        "id": "-O_BArm9qn7L"
      }
    },
    {
      "cell_type": "markdown",
      "source": [
        "### Importing the Libraries"
      ],
      "metadata": {
        "id": "zcndPvt4q9Cv"
      }
    },
    {
      "cell_type": "code",
      "source": [
        "\n",
        "import numpy as np\n",
        "import matplotlib.pyplot as plt\n",
        "import pandas as pd"
      ],
      "metadata": {
        "id": "X2ZrC6ZEsc0P"
      },
      "execution_count": 1,
      "outputs": []
    },
    {
      "cell_type": "markdown",
      "source": [
        "### Importing the Dataset"
      ],
      "metadata": {
        "id": "TdCd7E-WrEyj"
      }
    },
    {
      "cell_type": "code",
      "source": [
        "\n",
        "filename = \"Position_Salaries.csv\"\n",
        "dataSet = pd.read_csv(filename)\n",
        "x = dataSet.iloc[:,1:-1].values    # Get all row values from csv. Get all column values but last one.\n",
        "y = dataSet.iloc[:,-1].values     # Get all row values from csv. Get the LAST column values.\n",
        "     "
      ],
      "metadata": {
        "id": "p75zrk0rse0s"
      },
      "execution_count": 2,
      "outputs": []
    },
    {
      "cell_type": "code",
      "source": [
        "print(x)"
      ],
      "metadata": {
        "colab": {
          "base_uri": "https://localhost:8080/"
        },
        "id": "VmLPcPzSsn9S",
        "outputId": "3da36435-6509-45ac-c3c3-46671c5595d9"
      },
      "execution_count": 3,
      "outputs": [
        {
          "output_type": "stream",
          "name": "stdout",
          "text": [
            "[[ 1]\n",
            " [ 2]\n",
            " [ 3]\n",
            " [ 4]\n",
            " [ 5]\n",
            " [ 6]\n",
            " [ 7]\n",
            " [ 8]\n",
            " [ 9]\n",
            " [10]]\n"
          ]
        }
      ]
    },
    {
      "cell_type": "code",
      "source": [
        "print(y)"
      ],
      "metadata": {
        "colab": {
          "base_uri": "https://localhost:8080/"
        },
        "id": "z37G2ho9spWU",
        "outputId": "81b78c6d-0aef-4bfe-c6f9-cc73e8468c24"
      },
      "execution_count": 4,
      "outputs": [
        {
          "output_type": "stream",
          "name": "stdout",
          "text": [
            "[  45000   50000   60000   80000  110000  150000  200000  300000  500000\n",
            " 1000000]\n"
          ]
        }
      ]
    },
    {
      "cell_type": "markdown",
      "source": [
        "## Training the Data\n"
      ],
      "metadata": {
        "id": "RVskfzqRqvA7"
      }
    },
    {
      "cell_type": "markdown",
      "source": [
        "### Training the Linear Regression model on the whole dataset"
      ],
      "metadata": {
        "id": "Yb3HZPwbrKho"
      }
    },
    {
      "cell_type": "markdown",
      "source": [
        "### Training the Polynomial Regression model on the whole dataset"
      ],
      "metadata": {
        "id": "tra4msO9rOTU"
      }
    },
    {
      "cell_type": "markdown",
      "source": [
        "## Visualizing the Data"
      ],
      "metadata": {
        "id": "lt7t3wHFq1Mq"
      }
    },
    {
      "cell_type": "markdown",
      "source": [
        "### Visualizing the Linear Regression Results"
      ],
      "metadata": {
        "id": "emgn_vT-rVqO"
      }
    },
    {
      "cell_type": "markdown",
      "source": [
        "### Visualizing the Polynomial Regression Results"
      ],
      "metadata": {
        "id": "arK6v2TgrZ6A"
      }
    },
    {
      "cell_type": "markdown",
      "source": [
        "### Visualizing the Polynomial Regression Results (for higher resolution and smoother curve)"
      ],
      "metadata": {
        "id": "dCVNQYy1rep4"
      }
    },
    {
      "cell_type": "markdown",
      "source": [
        "## Predictions"
      ],
      "metadata": {
        "id": "87HQhXSlq_Bx"
      }
    },
    {
      "cell_type": "markdown",
      "source": [
        "### Predicting a new result with Linear Regression"
      ],
      "metadata": {
        "id": "B19E4aXJrizT"
      }
    }
  ]
}
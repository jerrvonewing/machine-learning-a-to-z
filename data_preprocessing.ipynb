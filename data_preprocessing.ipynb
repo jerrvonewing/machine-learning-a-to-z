{
  "nbformat": 4,
  "nbformat_minor": 0,
  "metadata": {
    "colab": {
      "provenance": [],
      "authorship_tag": "ABX9TyNQ4wat+KjVvIQ0vNPSRaLI",
      "include_colab_link": true
    },
    "kernelspec": {
      "name": "python3",
      "display_name": "Python 3"
    },
    "language_info": {
      "name": "python"
    }
  },
  "cells": [
    {
      "cell_type": "markdown",
      "metadata": {
        "id": "view-in-github",
        "colab_type": "text"
      },
      "source": [
        "<a href=\"https://colab.research.google.com/github/jerrvonewing/machine-learning-a-to-z/blob/main/data_preprocessing.ipynb\" target=\"_parent\"><img src=\"https://colab.research.google.com/assets/colab-badge.svg\" alt=\"Open In Colab\"/></a>"
      ]
    },
    {
      "cell_type": "markdown",
      "source": [
        "# Data Preprocessing Tools"
      ],
      "metadata": {
        "id": "l8_kHnzotJws"
      }
    },
    {
      "cell_type": "markdown",
      "source": [
        "## Importing Libraries ##"
      ],
      "metadata": {
        "id": "E1YQKUkVtC6P"
      }
    },
    {
      "cell_type": "code",
      "execution_count": 1,
      "metadata": {
        "id": "RLT2FsX7rx0e"
      },
      "outputs": [],
      "source": [
        "import numpy as np\n",
        "import matplotlib.pyplot as plt\n",
        "import pandas as pd"
      ]
    },
    {
      "cell_type": "markdown",
      "source": [
        "## Importing the Dataset"
      ],
      "metadata": {
        "id": "3vqswHbZtPhH"
      }
    },
    {
      "cell_type": "code",
      "source": [
        "dataSet = pd.read_csv(\"Data.csv\")\n",
        "x = dataSet.iloc[:,:-1].values    # Get all row values from csv. Get all column values but last one.\n",
        "y = dataSet.iloc[:,-1].values     # Get all row values from csv. Get the LAST column values.\n"
      ],
      "metadata": {
        "id": "fgDq4sQivpWh"
      },
      "execution_count": 2,
      "outputs": []
    },
    {
      "cell_type": "code",
      "source": [
        "print(x)"
      ],
      "metadata": {
        "colab": {
          "base_uri": "https://localhost:8080/"
        },
        "id": "zthAu1-2zbwf",
        "outputId": "917c525f-bf82-469a-dbdb-69b4dc366781"
      },
      "execution_count": 3,
      "outputs": [
        {
          "output_type": "stream",
          "name": "stdout",
          "text": [
            "[['France' 44.0 72000.0]\n",
            " ['Spain' 27.0 48000.0]\n",
            " ['Germany' 30.0 54000.0]\n",
            " ['Spain' 38.0 61000.0]\n",
            " ['Germany' 40.0 nan]\n",
            " ['France' 35.0 58000.0]\n",
            " ['Spain' nan 52000.0]\n",
            " ['France' 48.0 79000.0]\n",
            " ['Germany' 50.0 83000.0]\n",
            " ['France' 37.0 67000.0]]\n"
          ]
        }
      ]
    },
    {
      "cell_type": "code",
      "source": [
        "print(y)"
      ],
      "metadata": {
        "colab": {
          "base_uri": "https://localhost:8080/"
        },
        "id": "WI8VIY5Czd-V",
        "outputId": "633909ef-408d-483f-a99f-447a7fc20a26"
      },
      "execution_count": 4,
      "outputs": [
        {
          "output_type": "stream",
          "name": "stdout",
          "text": [
            "['No' 'Yes' 'No' 'No' 'Yes' 'Yes' 'No' 'Yes' 'No' 'Yes']\n"
          ]
        }
      ]
    },
    {
      "cell_type": "markdown",
      "source": [
        "## Taking Care Of Missing Data ##"
      ],
      "metadata": {
        "id": "KNSpnw0BtV5v"
      }
    },
    {
      "cell_type": "markdown",
      "source": [
        "## Encoding Categorical Data"
      ],
      "metadata": {
        "id": "A9VYuQCGtazV"
      }
    },
    {
      "cell_type": "markdown",
      "source": [
        "### Encoding the Independent Variable ###"
      ],
      "metadata": {
        "id": "fTtJ5mZ9td3H"
      }
    },
    {
      "cell_type": "markdown",
      "source": [
        "### Encoding the Dependent Variable ###"
      ],
      "metadata": {
        "id": "1ZDUZKJ0tlma"
      }
    },
    {
      "cell_type": "markdown",
      "source": [
        "## Splitting the Dataset Into the Training set and Test set ##"
      ],
      "metadata": {
        "id": "i7BeR5vQtqIw"
      }
    },
    {
      "cell_type": "markdown",
      "source": [
        "## Feature Scaling ##"
      ],
      "metadata": {
        "id": "ZpG7g0eetzMb"
      }
    }
  ]
}
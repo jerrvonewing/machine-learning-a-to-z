{
  "nbformat": 4,
  "nbformat_minor": 0,
  "metadata": {
    "colab": {
      "provenance": [],
      "authorship_tag": "ABX9TyOSOpzIqy1Hhfe8rc5f6A/s",
      "include_colab_link": true
    },
    "kernelspec": {
      "name": "python3",
      "display_name": "Python 3"
    },
    "language_info": {
      "name": "python"
    }
  },
  "cells": [
    {
      "cell_type": "markdown",
      "metadata": {
        "id": "view-in-github",
        "colab_type": "text"
      },
      "source": [
        "<a href=\"https://colab.research.google.com/github/jerrvonewing/machine-learning-a-to-z/blob/main/02-simple-linear-regression/simple_linear_regression.ipynb\" target=\"_parent\"><img src=\"https://colab.research.google.com/assets/colab-badge.svg\" alt=\"Open In Colab\"/></a>"
      ]
    },
    {
      "cell_type": "markdown",
      "source": [
        "# Simple Linear Regression"
      ],
      "metadata": {
        "id": "FLAcRysznSz6"
      }
    },
    {
      "cell_type": "markdown",
      "source": [
        "## Importing the libraries"
      ],
      "metadata": {
        "id": "_ld63_iWnXYj"
      }
    },
    {
      "cell_type": "code",
      "execution_count": 7,
      "metadata": {
        "id": "-caM93QDnG2u"
      },
      "outputs": [],
      "source": [
        "import numpy as np\n",
        "import matplotlib.pyplot as plt\n",
        "import pandas as pd"
      ]
    },
    {
      "cell_type": "markdown",
      "source": [
        "## Importing the dataset"
      ],
      "metadata": {
        "id": "vDnsYdgKnaHF"
      }
    },
    {
      "cell_type": "code",
      "source": [
        "filename = \"Salary_Data.csv\"\n",
        "dataSet = pd.read_csv(filename)\n",
        "\n",
        "# Get Years of Experience\n",
        "x = dataSet.iloc[:,:-1].values \n",
        "\n",
        "# Get Salary    \n",
        "y = dataSet.iloc[:,-1].values     "
      ],
      "metadata": {
        "id": "_oC4Ba4moNLh"
      },
      "execution_count": 8,
      "outputs": []
    },
    {
      "cell_type": "code",
      "source": [
        "print(x)"
      ],
      "metadata": {
        "colab": {
          "base_uri": "https://localhost:8080/"
        },
        "id": "dRGWQ3RTolYA",
        "outputId": "ac9ef2aa-a378-445f-a467-dd3400ca1dbe"
      },
      "execution_count": 9,
      "outputs": [
        {
          "output_type": "stream",
          "name": "stdout",
          "text": [
            "[[ 1.1]\n",
            " [ 1.3]\n",
            " [ 1.5]\n",
            " [ 2. ]\n",
            " [ 2.2]\n",
            " [ 2.9]\n",
            " [ 3. ]\n",
            " [ 3.2]\n",
            " [ 3.2]\n",
            " [ 3.7]\n",
            " [ 3.9]\n",
            " [ 4. ]\n",
            " [ 4. ]\n",
            " [ 4.1]\n",
            " [ 4.5]\n",
            " [ 4.9]\n",
            " [ 5.1]\n",
            " [ 5.3]\n",
            " [ 5.9]\n",
            " [ 6. ]\n",
            " [ 6.8]\n",
            " [ 7.1]\n",
            " [ 7.9]\n",
            " [ 8.2]\n",
            " [ 8.7]\n",
            " [ 9. ]\n",
            " [ 9.5]\n",
            " [ 9.6]\n",
            " [10.3]\n",
            " [10.5]]\n"
          ]
        }
      ]
    },
    {
      "cell_type": "code",
      "source": [
        "print(y)"
      ],
      "metadata": {
        "colab": {
          "base_uri": "https://localhost:8080/"
        },
        "id": "GFqevAOronDx",
        "outputId": "285e68f2-cb48-4ad4-af76-2fe59beb23a8"
      },
      "execution_count": 10,
      "outputs": [
        {
          "output_type": "stream",
          "name": "stdout",
          "text": [
            "[ 39343.  46205.  37731.  43525.  39891.  56642.  60150.  54445.  64445.\n",
            "  57189.  63218.  55794.  56957.  57081.  61111.  67938.  66029.  83088.\n",
            "  81363.  93940.  91738.  98273. 101302. 113812. 109431. 105582. 116969.\n",
            " 112635. 122391. 121872.]\n"
          ]
        }
      ]
    },
    {
      "cell_type": "markdown",
      "source": [
        "## Splitting the dataset into the Training set and Test set"
      ],
      "metadata": {
        "id": "vVa0CrsdnccK"
      }
    },
    {
      "cell_type": "markdown",
      "source": [
        "## Training the Simple Linear Regression Model on the Training Set"
      ],
      "metadata": {
        "id": "PVfT6Ha_niFv"
      }
    },
    {
      "cell_type": "markdown",
      "source": [
        "## Predicting the Test set results"
      ],
      "metadata": {
        "id": "VJaocGsFnpsV"
      }
    },
    {
      "cell_type": "markdown",
      "source": [
        "## Visualizing the Training set results"
      ],
      "metadata": {
        "id": "eAtP30Jbntwm"
      }
    },
    {
      "cell_type": "markdown",
      "source": [
        "## Visualizing the Test set results"
      ],
      "metadata": {
        "id": "nZcYdn16nx2i"
      }
    }
  ]
}